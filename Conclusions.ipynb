{
 "cells": [
  {
   "cell_type": "code",
   "execution_count": null,
   "metadata": {},
   "outputs": [],
   "source": [
    "# First Conclusion:\n",
    "    There are a higher number & percentage of male players\n",
    "# Second Conclusion\n",
    "    The purchase count for males is higher, however, females had a higher average purchase price & higher average purchase per total person\n",
    "    Which could just be from a smaller number of females playing in general\n",
    "# Third Conclusion\n",
    "    Ages 20-24 have the majority of the players\n",
    "# Forth Conclusion\n",
    "    The most profitable game was also the most popular. There was no real correlation between other games being popular. There were a few games that "
   ]
  }
 ],
 "metadata": {
  "kernelspec": {
   "display_name": "Python 3",
   "language": "python",
   "name": "python3"
  },
  "language_info": {
   "codemirror_mode": {
    "name": "ipython",
    "version": 3
   },
   "file_extension": ".py",
   "mimetype": "text/x-python",
   "name": "python",
   "nbconvert_exporter": "python",
   "pygments_lexer": "ipython3",
   "version": "3.7.1"
  }
 },
 "nbformat": 4,
 "nbformat_minor": 2
}
